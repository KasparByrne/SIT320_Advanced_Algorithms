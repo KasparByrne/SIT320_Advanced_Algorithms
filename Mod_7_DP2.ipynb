{
 "cells": [
  {
   "cell_type": "markdown",
   "id": "complex-ideal",
   "metadata": {},
   "source": [
    "# Lab 7: Dynamic Programming"
   ]
  },
  {
   "cell_type": "markdown",
   "id": "dynamic-hearing",
   "metadata": {},
   "source": [
    "Lab associated with Module 7: Dynamic Programming"
   ]
  },
  {
   "cell_type": "markdown",
   "id": "reliable-thomson",
   "metadata": {},
   "source": [
    "***"
   ]
  },
  {
   "cell_type": "code",
   "execution_count": 253,
   "id": "unknown-effort",
   "metadata": {},
   "outputs": [
    {
     "name": "stderr",
     "output_type": "stream",
     "text": [
      "C:\\Users\\KasparLazar\\AppData\\Local\\Temp\\ipykernel_15588\\1945220536.py:2: DeprecationWarning: Importing display from IPython.core.display is deprecated since IPython 7.14, please import from IPython display\n",
      "  from IPython.core.display import display, HTML\n"
     ]
    },
    {
     "data": {
      "text/html": [
       "<style>.container { width:95% !important; }</style>"
      ],
      "text/plain": [
       "<IPython.core.display.HTML object>"
      ]
     },
     "metadata": {},
     "output_type": "display_data"
    }
   ],
   "source": [
    "# The following lines are used to increase the width of cells to utilize more space on the screen \n",
    "from IPython.core.display import display, HTML\n",
    "display(HTML(\"<style>.container { width:95% !important; }</style>\"))"
   ]
  },
  {
   "cell_type": "markdown",
   "id": "civilian-racing",
   "metadata": {},
   "source": [
    "***"
   ]
  },
  {
   "cell_type": "markdown",
   "id": "moving-violence",
   "metadata": {},
   "source": [
    "### Section 0: Imports"
   ]
  },
  {
   "cell_type": "code",
   "execution_count": 254,
   "id": "familiar-letters",
   "metadata": {},
   "outputs": [],
   "source": [
    "import numpy as np"
   ]
  },
  {
   "cell_type": "code",
   "execution_count": 255,
   "id": "recovered-literacy",
   "metadata": {},
   "outputs": [],
   "source": [
    "import math"
   ]
  },
  {
   "cell_type": "code",
   "execution_count": 256,
   "id": "multiple-chair",
   "metadata": {},
   "outputs": [],
   "source": [
    "from IPython.display import Image\n",
    "from graphviz import Digraph"
   ]
  },
  {
   "cell_type": "markdown",
   "id": "hungarian-sentence",
   "metadata": {},
   "source": [
    "Details of Digraph package: https://h1ros.github.io/posts/introduction-to-graphviz-in-jupyter-notebook/"
   ]
  },
  {
   "cell_type": "markdown",
   "id": "anonymous-sphere",
   "metadata": {},
   "source": [
    "***"
   ]
  },
  {
   "cell_type": "markdown",
   "id": "ede7f680",
   "metadata": {},
   "source": [
    "### <font color='red'> Activity 1: You are running up a staircase with a total of n steps. You can hop either 1 step, 2 steps or 3 steps at at time. Write a DP program to determine how many possible ways you can run up the stairs? (Hint: Start with a recursive solution, and then later move to top-down approach of DP). </font>"
   ]
  },
  {
   "cell_type": "code",
   "execution_count": 257,
   "id": "f7d274a8",
   "metadata": {},
   "outputs": [
    {
     "name": "stdout",
     "output_type": "stream",
     "text": [
      "10562230626642\n"
     ]
    }
   ],
   "source": [
    "### TODO ###\n",
    "### Good Luck ###\n",
    "\n",
    "def stair_hopping(n, steps = {1:1, 2:2, 3:4}):\n",
    "\n",
    "    if n in steps.keys():\n",
    "        return steps[n]\n",
    "\n",
    "    steps[n] = stair_hopping(n-3,steps) + stair_hopping(n-2,steps) + stair_hopping(n-1,steps)\n",
    "    \n",
    "    return steps[n]\n",
    "\n",
    "result = stair_hopping(50)\n",
    "print(result)\n"
   ]
  },
  {
   "cell_type": "markdown",
   "id": "fiscal-video",
   "metadata": {},
   "source": [
    "### <font color='red'> Activity 2: Write the code for finding the Longest Common Sub-sequence. Make sure you output the Matrix C and teh longest sub-sequence as well. Test your code with various use-cases. </font>"
   ]
  },
  {
   "cell_type": "code",
   "execution_count": 258,
   "id": "developed-pharmacy",
   "metadata": {},
   "outputs": [
    {
     "name": "stdout",
     "output_type": "stream",
     "text": [
      "BEF\n",
      "Test 1: Passed\n",
      "Test 2: Passed\n"
     ]
    }
   ],
   "source": [
    "### TODO ###\n",
    "### Good Luck ###\n",
    "\n",
    "def LCS(X, Y):\n",
    "\n",
    "    X, Y = [c for c in X], [c for c in Y]\n",
    "\n",
    "    C = [[0 for _ in range(len(Y)+1)] for _ in range(len(X)+1)]\n",
    "    common_sequences = [['' for _ in range(len(Y)+1)] for _ in range(len(X)+1)]\n",
    "\n",
    "    for i in range(1,len(X)+1):\n",
    "        for j in range(1,len(Y)+1):\n",
    "            if X[i-1] == Y[j-1]:\n",
    "                C[i][j] = C[i-1][j-1] + 1\n",
    "                common_sequences[i][j] = common_sequences[i-1][j-1] + X[i-1]\n",
    "            else:\n",
    "                if C[i][j-1] > C[i-1][j]:\n",
    "                    C[i][j] = C[i][j-1]\n",
    "                    common_sequences[i][j] = common_sequences[i][j-1]\n",
    "                else:\n",
    "                    C[i][j] = C[i-1][j]\n",
    "                    common_sequences[i][j] = common_sequences[i-1][j]\n",
    "    \n",
    "    return common_sequences[-1][-1]\n",
    "\n",
    "# Test 1\n",
    "result = LCS('ABCDEF','BEF')\n",
    "print(result)\n",
    "if result == 'BEF':\n",
    "    print('Test 1: Passed')\n",
    "else:\n",
    "    print('Test 1: Failed')\n",
    "\n",
    "# Test 2\n",
    "result = LCS('ACATWITHABATANDANICEHAT','AFLYWITHAKNIFEANDABALOON')\n",
    "if result == 'AWITHAANDAN':\n",
    "    print('Test 2: Passed')\n",
    "else:\n",
    "    print('Test 2: Failed')"
   ]
  },
  {
   "cell_type": "markdown",
   "id": "subject-annual",
   "metadata": {},
   "source": [
    "***"
   ]
  },
  {
   "cell_type": "markdown",
   "id": "enormous-bishop",
   "metadata": {},
   "source": [
    "### Section 2: Unbounded Knapsack Problem"
   ]
  },
  {
   "cell_type": "markdown",
   "id": "grand-decision",
   "metadata": {},
   "source": [
    "Let us build a solution to unbounded Knapsack problem."
   ]
  },
  {
   "cell_type": "code",
   "execution_count": 259,
   "id": "connected-sustainability",
   "metadata": {},
   "outputs": [],
   "source": [
    "def unboundedKnapsack(W, n, wt, vals, names):\n",
    " \n",
    "    K = [0 for i in range(W + 1)]\n",
    "    ITEMS = [[] for i in range(W + 1)]\n",
    " \n",
    "    for x in range(1, W + 1):\n",
    "        K[x] = 0\n",
    "        for i in range(1, n):\n",
    "            \n",
    "            prev_k = K[x]\n",
    "            \n",
    "            if (wt[i] <= x):\n",
    "                K[x] = max(K[x], K[x - wt[i]] + vals[i])\n",
    "                \n",
    "            if K[x] != prev_k:\n",
    "                ITEMS[x] = ITEMS[x - wt[i]] + names[i]\n",
    "                \n",
    " \n",
    "    return K[W], ITEMS[W]"
   ]
  },
  {
   "cell_type": "code",
   "execution_count": 260,
   "id": "tropical-catalyst",
   "metadata": {},
   "outputs": [
    {
     "name": "stdout",
     "output_type": "stream",
     "text": [
      "We have 3 items\n"
     ]
    }
   ],
   "source": [
    "W = 4\n",
    "wt = [1, 2, 3]\n",
    "vals = [1, 4, 6]\n",
    "names = [[\"Turtle\"], [\"Globe\"], [\"WaterMelon\"]]\n",
    "\n",
    "n = len(names)\n",
    "\n",
    "print('We have {} items'.format(n))                "
   ]
  },
  {
   "cell_type": "code",
   "execution_count": 261,
   "id": "noble-wayne",
   "metadata": {},
   "outputs": [],
   "source": [
    "K, ITEMS = unboundedKnapsack(W, n, wt, vals, names)"
   ]
  },
  {
   "cell_type": "code",
   "execution_count": 262,
   "id": "english-property",
   "metadata": {},
   "outputs": [
    {
     "data": {
      "text/plain": [
       "['Globe', 'Globe']"
      ]
     },
     "execution_count": 262,
     "metadata": {},
     "output_type": "execute_result"
    }
   ],
   "source": [
    "ITEMS"
   ]
  },
  {
   "cell_type": "code",
   "execution_count": null,
   "id": "moderate-orbit",
   "metadata": {},
   "outputs": [],
   "source": [
    "\n",
    "\n",
    "\n",
    "\n",
    "\n",
    "\n"
   ]
  },
  {
   "cell_type": "markdown",
   "id": "divine-glossary",
   "metadata": {},
   "source": [
    "***"
   ]
  },
  {
   "cell_type": "markdown",
   "id": "eb2033b6",
   "metadata": {},
   "source": [
    "### <font color='red'> Activity 3: In the earlier activity, you analysed the code for unbounded knapsack. Based on the algorithm discussed in this section, implement a solution to do 0/1 Knapsack. Make sure you test your algorithms for various test-cases. </font>"
   ]
  },
  {
   "cell_type": "code",
   "execution_count": 263,
   "id": "floral-reggae",
   "metadata": {},
   "outputs": [],
   "source": [
    "#### TODO ####\n",
    "### Good Luck ###\n",
    "\n",
    "def boundedKnapsack(W, n, wt, vals, names):\n",
    "    \n",
    "    K = [[0 for _ in range(n+1)] for _ in range(W+1)]\n",
    "    ITEMS = [[[] for _ in range(n+1)] for _ in range(W+1)]\n",
    "\n",
    "    for x in range(1,W+1):\n",
    "        for j in range(1,n+1):\n",
    "            K[x][j] = K[x][j-1]\n",
    "            if wt[j-1] <= x:\n",
    "                K[x][j] = max(K[x][j], K[x-wt[j-1]][j-1] + vals[j-1])\n",
    "            if K[x][j] != K[x][j-1]:\n",
    "                ITEMS[x][j] = ITEMS[x - wt[j-1]][j-1] + [names[j-1]]\n",
    "            else:\n",
    "                ITEMS[x][j] = ITEMS[x][j-1]\n",
    "    \n",
    "    return K[W][n], ITEMS[W][n]\n"
   ]
  },
  {
   "cell_type": "markdown",
   "id": "asian-garbage",
   "metadata": {},
   "source": [
    "Class Room Test-case"
   ]
  },
  {
   "cell_type": "code",
   "execution_count": 264,
   "id": "earned-sierra",
   "metadata": {},
   "outputs": [
    {
     "name": "stdout",
     "output_type": "stream",
     "text": [
      "We have 5 items\n"
     ]
    }
   ],
   "source": [
    "W = 10\n",
    "V = [20, 8, 14, 13, 35]\n",
    "w = [6, 2, 4, 3, 11]\n",
    "names = ['Apple','Banana','Strawberry','Pear','Pineapple']\n",
    "\n",
    "n = len(V)\n",
    "\n",
    "print('We have {} items'.format(n))   "
   ]
  },
  {
   "cell_type": "code",
   "execution_count": 265,
   "id": "periodic-absolute",
   "metadata": {},
   "outputs": [
    {
     "name": "stdout",
     "output_type": "stream",
     "text": [
      "Test 1: Passed\n",
      "Test 2: Passed\n"
     ]
    }
   ],
   "source": [
    "# Test 1\n",
    "result = boundedKnapsack(W,n,w,V,names)\n",
    "\n",
    "if result == (35, ['Banana', 'Strawberry', 'Pear']):\n",
    "    print('Test 1: Passed')\n",
    "else:\n",
    "    print('Test 1: Failed')\n",
    "\n",
    "# Test 2\n",
    "W = 1000\n",
    "V = [100, 50, 30, 20, 110, 11, 140]\n",
    "w = [328, 215, 106, 117, 355, 56, 478]\n",
    "names = ['Gold','Silver','Bronze','Steal','Platinum','Lead','Iridium']\n",
    "n = len(V)\n",
    "\n",
    "result = boundedKnapsack(W,n,w,V,names)\n",
    "\n",
    "if result == (291, ['Bronze', 'Platinum', 'Lead', 'Iridium']):\n",
    "    print('Test 2: Passed')\n",
    "else:\n",
    "    print('Test 2: Failed')"
   ]
  },
  {
   "cell_type": "markdown",
   "id": "emerging-green",
   "metadata": {},
   "source": [
    "***"
   ]
  }
 ],
 "metadata": {
  "kernelspec": {
   "display_name": "Python 3 (ipykernel)",
   "language": "python",
   "name": "python3"
  },
  "language_info": {
   "codemirror_mode": {
    "name": "ipython",
    "version": 3
   },
   "file_extension": ".py",
   "mimetype": "text/x-python",
   "name": "python",
   "nbconvert_exporter": "python",
   "pygments_lexer": "ipython3",
   "version": "3.11.3"
  }
 },
 "nbformat": 4,
 "nbformat_minor": 5
}
